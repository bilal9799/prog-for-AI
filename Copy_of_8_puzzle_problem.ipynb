{
  "nbformat": 4,
  "nbformat_minor": 0,
  "metadata": {
    "colab": {
      "provenance": []
    },
    "kernelspec": {
      "name": "python3",
      "display_name": "Python 3"
    },
    "language_info": {
      "name": "python"
    }
  },
  "cells": [
    {
      "cell_type": "code",
      "source": [
        "import random\n",
        "def generate_puzzle():\n",
        "    numbers = list(range(9))\n",
        "    random.shuffle(numbers)\n",
        "    puzzle = [numbers[i:i+3] for i in range(0, 9, 3)]\n",
        "    return puzzle\n",
        "def print_puzzle(puzzle):\n",
        "    for row in puzzle:\n",
        "        print(\" \".join(map(str, row)))\n",
        "print(\"Generated Eight Puzzle:\")\n",
        "puzzle = generate_puzzle()\n",
        "print_puzzle(puzzle)\n"
      ],
      "metadata": {
        "colab": {
          "base_uri": "https://localhost:8080/"
        },
        "id": "Nti46rKcfdpS",
        "outputId": "1c1c6956-0df3-40d2-fdb5-d44743af27ad"
      },
      "execution_count": null,
      "outputs": [
        {
          "output_type": "stream",
          "name": "stdout",
          "text": [
            "Generated Eight Puzzle:\n",
            "0 7 6\n",
            "4 1 3\n",
            "8 5 2\n"
          ]
        }
      ]
    }
  ]
}